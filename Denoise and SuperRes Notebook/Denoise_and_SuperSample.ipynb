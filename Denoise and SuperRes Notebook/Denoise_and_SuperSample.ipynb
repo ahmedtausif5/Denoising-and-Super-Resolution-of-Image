{
 "cells": [
  {
   "cell_type": "code",
   "execution_count": 2,
   "id": "715b22db",
   "metadata": {},
   "outputs": [],
   "source": [
    "import cv2\n",
    "import matplotlib.pyplot as plt\n",
    "import numpy as np"
   ]
  },
  {
   "cell_type": "code",
   "execution_count": 3,
   "id": "ccba04b1",
   "metadata": {},
   "outputs": [],
   "source": [
    "def run(image, denoise, superRes):\n",
    "    \n",
    "    # reading input image\n",
    "    image = cv2.imread(image, 1)\n",
    "    original_image = image\n",
    "    \n",
    "    if denoise:\n",
    "        # removing noise from image using bilateralFilter\n",
    "        image = cv2.bilateralFilter(image, 15, 75, 75)\n",
    "\n",
    "    if superRes:\n",
    "        # Creating Super Res object\n",
    "        sr = cv2.dnn_superres.DnnSuperResImpl_create()\n",
    "\n",
    "        # Reading Super Res model\n",
    "        sr.readModel(\"EDSR_x4.pb\")\n",
    "\n",
    "        # Setting the modelname and scale\n",
    "        sr.setModel(\"edsr\", 4)\n",
    "\n",
    "        # Upscaling the denoised image\n",
    "        image = sr.upsample(image)\n",
    "\n",
    "    # Displaying input image and final image\n",
    "    cv2.imshow(\"Input Image\", original_image)\n",
    "    cv2.imshow(\"Final Image\", image)\n",
    "    cv2.waitKey(0)\n",
    "    cv2.destroyAllWindows()"
   ]
  },
  {
   "cell_type": "code",
   "execution_count": 9,
   "id": "a7c21d51",
   "metadata": {},
   "outputs": [],
   "source": [
    "run(\"image2.png\", denoise=True, superRes=True) "
   ]
  },
  {
   "cell_type": "code",
   "execution_count": null,
   "id": "32985c4e",
   "metadata": {},
   "outputs": [],
   "source": []
  },
  {
   "cell_type": "code",
   "execution_count": null,
   "id": "a74054ae",
   "metadata": {},
   "outputs": [],
   "source": []
  }
 ],
 "metadata": {
  "kernelspec": {
   "display_name": "interview",
   "language": "python",
   "name": "interview"
  },
  "language_info": {
   "codemirror_mode": {
    "name": "ipython",
    "version": 3
   },
   "file_extension": ".py",
   "mimetype": "text/x-python",
   "name": "python",
   "nbconvert_exporter": "python",
   "pygments_lexer": "ipython3",
   "version": "3.8.8"
  }
 },
 "nbformat": 4,
 "nbformat_minor": 5
}
