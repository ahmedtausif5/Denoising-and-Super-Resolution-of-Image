{
 "cells": [
  {
   "cell_type": "code",
   "execution_count": 20,
   "id": "715b22db",
   "metadata": {},
   "outputs": [],
   "source": [
    "import cv2\n",
    "import matplotlib.pyplot as plt\n",
    "import numpy as np"
   ]
  },
  {
   "cell_type": "code",
   "execution_count": 21,
   "id": "ccba04b1",
   "metadata": {},
   "outputs": [],
   "source": [
    "def run(image, denoise, superRes):\n",
    "    \n",
    "    # reading input image\n",
    "    image = cv2.imread(image, 1)\n",
    "    original_image = image\n",
    "    \n",
    "    if denoise:\n",
    "        # removing noise from image using bilateralFilter\n",
    "        image = cv2.bilateralFilter(image, 15, 75, 75)\n",
    "\n",
    "    if superRes:\n",
    "        # Creating Super Res object\n",
    "        sr = cv2.dnn_superres.DnnSuperResImpl_create()\n",
    "\n",
    "        # Reading Super Res model\n",
    "        sr.readModel(\"EDSR_x4.pb\")\n",
    "\n",
    "        # Setting the modelname and scale\n",
    "        sr.setModel(\"edsr\", 4)\n",
    "\n",
    "        # Upscaling the denoised image\n",
    "        image = sr.upsample(image)\n",
    "\n",
    "    # Displaying input image and final image\n",
    "    cv2.imshow(\"Input Image\", original_image)\n",
    "    cv2.imshow(\"Final Image\", image)\n",
    "    cv2.waitKey(0)\n",
    "    cv2.destroyAllWindows()"
   ]
  },
  {
   "cell_type": "code",
   "execution_count": 22,
   "id": "a7c21d51",
   "metadata": {},
   "outputs": [
    {
     "ename": "NameError",
     "evalue": "name 'input_image_ndArray' is not defined",
     "output_type": "error",
     "traceback": [
      "\u001b[1;31m---------------------------------------------------------------------------\u001b[0m",
      "\u001b[1;31mNameError\u001b[0m                                 Traceback (most recent call last)",
      "\u001b[1;32m<ipython-input-22-bffd18a2a53e>\u001b[0m in \u001b[0;36m<module>\u001b[1;34m\u001b[0m\n\u001b[1;32m----> 1\u001b[1;33m \u001b[0mrun\u001b[0m\u001b[1;33m(\u001b[0m\u001b[1;34m\"image2.png\"\u001b[0m\u001b[1;33m,\u001b[0m \u001b[0mdenoise\u001b[0m\u001b[1;33m=\u001b[0m\u001b[1;32mTrue\u001b[0m\u001b[1;33m,\u001b[0m \u001b[0msuperRes\u001b[0m\u001b[1;33m=\u001b[0m\u001b[1;32mFalse\u001b[0m\u001b[1;33m)\u001b[0m\u001b[1;33m\u001b[0m\u001b[1;33m\u001b[0m\u001b[0m\n\u001b[0m",
      "\u001b[1;32m<ipython-input-21-a73e521e9d40>\u001b[0m in \u001b[0;36mrun\u001b[1;34m(image, denoise, superRes)\u001b[0m\n\u001b[0;32m      7\u001b[0m     \u001b[1;32mif\u001b[0m \u001b[0mdenoise\u001b[0m\u001b[1;33m:\u001b[0m\u001b[1;33m\u001b[0m\u001b[1;33m\u001b[0m\u001b[0m\n\u001b[0;32m      8\u001b[0m         \u001b[1;31m# removing noise from image using bilateralFilter\u001b[0m\u001b[1;33m\u001b[0m\u001b[1;33m\u001b[0m\u001b[1;33m\u001b[0m\u001b[0m\n\u001b[1;32m----> 9\u001b[1;33m         \u001b[0mimage\u001b[0m \u001b[1;33m=\u001b[0m \u001b[0mcv2\u001b[0m\u001b[1;33m.\u001b[0m\u001b[0mbilateralFilter\u001b[0m\u001b[1;33m(\u001b[0m\u001b[0minput_image_ndArray\u001b[0m\u001b[1;33m,\u001b[0m \u001b[1;36m15\u001b[0m\u001b[1;33m,\u001b[0m \u001b[1;36m75\u001b[0m\u001b[1;33m,\u001b[0m \u001b[1;36m75\u001b[0m\u001b[1;33m)\u001b[0m\u001b[1;33m\u001b[0m\u001b[1;33m\u001b[0m\u001b[0m\n\u001b[0m\u001b[0;32m     10\u001b[0m \u001b[1;33m\u001b[0m\u001b[0m\n\u001b[0;32m     11\u001b[0m     \u001b[1;32mif\u001b[0m \u001b[0msuperRes\u001b[0m\u001b[1;33m:\u001b[0m\u001b[1;33m\u001b[0m\u001b[1;33m\u001b[0m\u001b[0m\n",
      "\u001b[1;31mNameError\u001b[0m: name 'input_image_ndArray' is not defined"
     ]
    }
   ],
   "source": [
    "run(\"image2.png\", denoise=True, superRes=False) "
   ]
  },
  {
   "cell_type": "code",
   "execution_count": null,
   "id": "32985c4e",
   "metadata": {},
   "outputs": [],
   "source": []
  },
  {
   "cell_type": "code",
   "execution_count": null,
   "id": "a74054ae",
   "metadata": {},
   "outputs": [],
   "source": []
  }
 ],
 "metadata": {
  "kernelspec": {
   "display_name": "interview",
   "language": "python",
   "name": "interview"
  },
  "language_info": {
   "codemirror_mode": {
    "name": "ipython",
    "version": 3
   },
   "file_extension": ".py",
   "mimetype": "text/x-python",
   "name": "python",
   "nbconvert_exporter": "python",
   "pygments_lexer": "ipython3",
   "version": "3.8.8"
  }
 },
 "nbformat": 4,
 "nbformat_minor": 5
}
